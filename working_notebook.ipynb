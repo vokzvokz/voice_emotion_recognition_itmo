{
 "cells": [
  {
   "cell_type": "code",
   "execution_count": 1,
   "metadata": {},
   "outputs": [],
   "source": [
    "import pandas as pd\n",
    "from data_extraction import read_raw_files\n",
    "from data_processing import *\n",
    "from model_extraction import load_model"
   ]
  },
  {
   "cell_type": "code",
   "execution_count": 2,
   "metadata": {},
   "outputs": [],
   "source": [
    "df = read_raw_files()"
   ]
  },
  {
   "cell_type": "code",
   "execution_count": 3,
   "metadata": {},
   "outputs": [
    {
     "data": {
      "text/plain": [
       "array(['male_fearful', 'female_angry', 'female_calm', 'female_sad',\n",
       "       'male_angry', 'male_sad', 'male_happy', 'male_calm',\n",
       "       'female_fearful', 'female_happy'], dtype=object)"
      ]
     },
     "execution_count": 3,
     "metadata": {},
     "output_type": "execute_result"
    }
   ],
   "source": [
    "df1 = read_raw_files(n_files=37)\n",
    "df1.label.unique()"
   ]
  },
  {
   "cell_type": "code",
   "execution_count": 4,
   "metadata": {},
   "outputs": [
    {
     "data": {
      "text/plain": [
       "[0, 10, 20, 30, 40, 50, 60, 70, 80, 90]"
      ]
     },
     "execution_count": 4,
     "metadata": {},
     "output_type": "execute_result"
    }
   ],
   "source": [
    "l = [i for i in range(100)]\n",
    "l[0:-1:10]"
   ]
  },
  {
   "cell_type": "code",
   "execution_count": 5,
   "metadata": {},
   "outputs": [
    {
     "data": {
      "text/plain": [
       "array(['male_fearful', 'female_angry', 'female_calm', 'female_sad',\n",
       "       'male_angry', 'male_sad', 'male_happy', 'male_calm',\n",
       "       'female_fearful', 'female_happy'], dtype=object)"
      ]
     },
     "execution_count": 5,
     "metadata": {},
     "output_type": "execute_result"
    }
   ],
   "source": [
    "df1.label.unique()"
   ]
  },
  {
   "cell_type": "code",
   "execution_count": 6,
   "metadata": {},
   "outputs": [
    {
     "data": {
      "text/html": [
       "<div>\n",
       "<style scoped>\n",
       "    .dataframe tbody tr th:only-of-type {\n",
       "        vertical-align: middle;\n",
       "    }\n",
       "\n",
       "    .dataframe tbody tr th {\n",
       "        vertical-align: top;\n",
       "    }\n",
       "\n",
       "    .dataframe thead th {\n",
       "        text-align: right;\n",
       "    }\n",
       "</style>\n",
       "<table border=\"1\" class=\"dataframe\">\n",
       "  <thead>\n",
       "    <tr style=\"text-align: right;\">\n",
       "      <th></th>\n",
       "      <th>label</th>\n",
       "      <th>0</th>\n",
       "      <th>1</th>\n",
       "      <th>2</th>\n",
       "      <th>3</th>\n",
       "      <th>4</th>\n",
       "      <th>5</th>\n",
       "      <th>6</th>\n",
       "      <th>7</th>\n",
       "      <th>8</th>\n",
       "      <th>...</th>\n",
       "      <th>206</th>\n",
       "      <th>207</th>\n",
       "      <th>208</th>\n",
       "      <th>209</th>\n",
       "      <th>210</th>\n",
       "      <th>211</th>\n",
       "      <th>212</th>\n",
       "      <th>213</th>\n",
       "      <th>214</th>\n",
       "      <th>215</th>\n",
       "    </tr>\n",
       "  </thead>\n",
       "  <tbody>\n",
       "    <tr>\n",
       "      <th>21</th>\n",
       "      <td>male_fearful</td>\n",
       "      <td>-61.087368</td>\n",
       "      <td>-61.579323</td>\n",
       "      <td>-61.580788</td>\n",
       "      <td>-61.288128</td>\n",
       "      <td>-61.081142</td>\n",
       "      <td>-60.591736</td>\n",
       "      <td>-59.902363</td>\n",
       "      <td>-59.477730</td>\n",
       "      <td>-60.251350</td>\n",
       "      <td>...</td>\n",
       "      <td>-56.197136</td>\n",
       "      <td>-53.662144</td>\n",
       "      <td>-53.636868</td>\n",
       "      <td>-55.863472</td>\n",
       "      <td>-56.614315</td>\n",
       "      <td>-56.009319</td>\n",
       "      <td>-54.970852</td>\n",
       "      <td>-54.317688</td>\n",
       "      <td>-56.101189</td>\n",
       "      <td>-56.822609</td>\n",
       "    </tr>\n",
       "    <tr>\n",
       "      <th>20</th>\n",
       "      <td>female_angry</td>\n",
       "      <td>-46.138206</td>\n",
       "      <td>-46.138206</td>\n",
       "      <td>-46.138206</td>\n",
       "      <td>-46.138206</td>\n",
       "      <td>-46.138206</td>\n",
       "      <td>-46.138206</td>\n",
       "      <td>-46.138206</td>\n",
       "      <td>-46.138206</td>\n",
       "      <td>-46.138206</td>\n",
       "      <td>...</td>\n",
       "      <td>-26.907887</td>\n",
       "      <td>-29.334385</td>\n",
       "      <td>-30.515127</td>\n",
       "      <td>-30.826090</td>\n",
       "      <td>-31.697905</td>\n",
       "      <td>-31.302111</td>\n",
       "      <td>-33.171894</td>\n",
       "      <td>-34.666664</td>\n",
       "      <td>-32.116180</td>\n",
       "      <td>-34.401711</td>\n",
       "    </tr>\n",
       "    <tr>\n",
       "      <th>4</th>\n",
       "      <td>female_calm</td>\n",
       "      <td>-80.365234</td>\n",
       "      <td>-80.365234</td>\n",
       "      <td>-80.365234</td>\n",
       "      <td>-80.365234</td>\n",
       "      <td>-80.365234</td>\n",
       "      <td>-80.365234</td>\n",
       "      <td>-80.365234</td>\n",
       "      <td>-80.365234</td>\n",
       "      <td>-80.365234</td>\n",
       "      <td>...</td>\n",
       "      <td>-67.552673</td>\n",
       "      <td>-71.822395</td>\n",
       "      <td>-67.615128</td>\n",
       "      <td>-66.810692</td>\n",
       "      <td>-68.890640</td>\n",
       "      <td>-67.609535</td>\n",
       "      <td>-65.278763</td>\n",
       "      <td>-65.307877</td>\n",
       "      <td>-66.985580</td>\n",
       "      <td>-69.478569</td>\n",
       "    </tr>\n",
       "    <tr>\n",
       "      <th>10</th>\n",
       "      <td>female_sad</td>\n",
       "      <td>-66.503899</td>\n",
       "      <td>-66.503899</td>\n",
       "      <td>-66.503899</td>\n",
       "      <td>-66.503899</td>\n",
       "      <td>-66.503899</td>\n",
       "      <td>-66.503899</td>\n",
       "      <td>-66.503899</td>\n",
       "      <td>-66.503899</td>\n",
       "      <td>-66.503899</td>\n",
       "      <td>...</td>\n",
       "      <td>-52.475349</td>\n",
       "      <td>-52.229416</td>\n",
       "      <td>-54.141418</td>\n",
       "      <td>-56.338928</td>\n",
       "      <td>-55.589706</td>\n",
       "      <td>-54.620144</td>\n",
       "      <td>-54.073235</td>\n",
       "      <td>-52.911312</td>\n",
       "      <td>-54.112370</td>\n",
       "      <td>-56.278381</td>\n",
       "    </tr>\n",
       "    <tr>\n",
       "      <th>14</th>\n",
       "      <td>female_sad</td>\n",
       "      <td>-52.077213</td>\n",
       "      <td>-50.420513</td>\n",
       "      <td>-46.801186</td>\n",
       "      <td>-44.139469</td>\n",
       "      <td>-43.354549</td>\n",
       "      <td>-43.309910</td>\n",
       "      <td>-44.002316</td>\n",
       "      <td>-44.234722</td>\n",
       "      <td>-43.001114</td>\n",
       "      <td>...</td>\n",
       "      <td>-51.283489</td>\n",
       "      <td>-50.625809</td>\n",
       "      <td>-52.064594</td>\n",
       "      <td>-53.155735</td>\n",
       "      <td>-51.934185</td>\n",
       "      <td>-51.763165</td>\n",
       "      <td>-52.547237</td>\n",
       "      <td>-50.747623</td>\n",
       "      <td>-48.736938</td>\n",
       "      <td>-46.721615</td>\n",
       "    </tr>\n",
       "  </tbody>\n",
       "</table>\n",
       "<p>5 rows × 217 columns</p>\n",
       "</div>"
      ],
      "text/plain": [
       "           label          0          1          2          3          4  \\\n",
       "21  male_fearful -61.087368 -61.579323 -61.580788 -61.288128 -61.081142   \n",
       "20  female_angry -46.138206 -46.138206 -46.138206 -46.138206 -46.138206   \n",
       "4    female_calm -80.365234 -80.365234 -80.365234 -80.365234 -80.365234   \n",
       "10    female_sad -66.503899 -66.503899 -66.503899 -66.503899 -66.503899   \n",
       "14    female_sad -52.077213 -50.420513 -46.801186 -44.139469 -43.354549   \n",
       "\n",
       "            5          6          7          8  ...        206        207  \\\n",
       "21 -60.591736 -59.902363 -59.477730 -60.251350  ... -56.197136 -53.662144   \n",
       "20 -46.138206 -46.138206 -46.138206 -46.138206  ... -26.907887 -29.334385   \n",
       "4  -80.365234 -80.365234 -80.365234 -80.365234  ... -67.552673 -71.822395   \n",
       "10 -66.503899 -66.503899 -66.503899 -66.503899  ... -52.475349 -52.229416   \n",
       "14 -43.309910 -44.002316 -44.234722 -43.001114  ... -51.283489 -50.625809   \n",
       "\n",
       "          208        209        210        211        212        213  \\\n",
       "21 -53.636868 -55.863472 -56.614315 -56.009319 -54.970852 -54.317688   \n",
       "20 -30.515127 -30.826090 -31.697905 -31.302111 -33.171894 -34.666664   \n",
       "4  -67.615128 -66.810692 -68.890640 -67.609535 -65.278763 -65.307877   \n",
       "10 -54.141418 -56.338928 -55.589706 -54.620144 -54.073235 -52.911312   \n",
       "14 -52.064594 -53.155735 -51.934185 -51.763165 -52.547237 -50.747623   \n",
       "\n",
       "          214        215  \n",
       "21 -56.101189 -56.822609  \n",
       "20 -32.116180 -34.401711  \n",
       "4  -66.985580 -69.478569  \n",
       "10 -54.112370 -56.278381  \n",
       "14 -48.736938 -46.721615  \n",
       "\n",
       "[5 rows x 217 columns]"
      ]
     },
     "execution_count": 6,
     "metadata": {},
     "output_type": "execute_result"
    }
   ],
   "source": [
    "df1.head()"
   ]
  },
  {
   "cell_type": "code",
   "execution_count": 7,
   "metadata": {},
   "outputs": [
    {
     "data": {
      "text/html": [
       "<div>\n",
       "<style scoped>\n",
       "    .dataframe tbody tr th:only-of-type {\n",
       "        vertical-align: middle;\n",
       "    }\n",
       "\n",
       "    .dataframe tbody tr th {\n",
       "        vertical-align: top;\n",
       "    }\n",
       "\n",
       "    .dataframe thead th {\n",
       "        text-align: right;\n",
       "    }\n",
       "</style>\n",
       "<table border=\"1\" class=\"dataframe\">\n",
       "  <thead>\n",
       "    <tr style=\"text-align: right;\">\n",
       "      <th></th>\n",
       "      <th>label</th>\n",
       "      <th>0</th>\n",
       "      <th>1</th>\n",
       "      <th>2</th>\n",
       "      <th>3</th>\n",
       "      <th>4</th>\n",
       "      <th>5</th>\n",
       "      <th>6</th>\n",
       "      <th>7</th>\n",
       "      <th>8</th>\n",
       "      <th>...</th>\n",
       "      <th>206</th>\n",
       "      <th>207</th>\n",
       "      <th>208</th>\n",
       "      <th>209</th>\n",
       "      <th>210</th>\n",
       "      <th>211</th>\n",
       "      <th>212</th>\n",
       "      <th>213</th>\n",
       "      <th>214</th>\n",
       "      <th>215</th>\n",
       "    </tr>\n",
       "  </thead>\n",
       "  <tbody>\n",
       "    <tr>\n",
       "      <th>938</th>\n",
       "      <td>male_fearful</td>\n",
       "      <td>-41.033859</td>\n",
       "      <td>-43.473728</td>\n",
       "      <td>-44.571995</td>\n",
       "      <td>-45.404984</td>\n",
       "      <td>-45.459835</td>\n",
       "      <td>-45.979374</td>\n",
       "      <td>-46.638767</td>\n",
       "      <td>-45.706509</td>\n",
       "      <td>-45.103676</td>\n",
       "      <td>...</td>\n",
       "      <td>-37.025810</td>\n",
       "      <td>-36.153347</td>\n",
       "      <td>-35.001041</td>\n",
       "      <td>-35.734093</td>\n",
       "      <td>-34.929306</td>\n",
       "      <td>-33.435040</td>\n",
       "      <td>-32.902012</td>\n",
       "      <td>-32.227551</td>\n",
       "      <td>-32.627934</td>\n",
       "      <td>-30.547537</td>\n",
       "    </tr>\n",
       "    <tr>\n",
       "      <th>634</th>\n",
       "      <td>male_angry</td>\n",
       "      <td>-52.434673</td>\n",
       "      <td>-51.535824</td>\n",
       "      <td>-53.196323</td>\n",
       "      <td>-52.245152</td>\n",
       "      <td>-51.765457</td>\n",
       "      <td>-49.566086</td>\n",
       "      <td>-49.411064</td>\n",
       "      <td>-48.564835</td>\n",
       "      <td>-49.487381</td>\n",
       "      <td>...</td>\n",
       "      <td>-47.406448</td>\n",
       "      <td>-45.762714</td>\n",
       "      <td>-46.912212</td>\n",
       "      <td>-50.075729</td>\n",
       "      <td>-48.734596</td>\n",
       "      <td>-49.856754</td>\n",
       "      <td>-50.899651</td>\n",
       "      <td>-50.184677</td>\n",
       "      <td>-47.826580</td>\n",
       "      <td>-45.630180</td>\n",
       "    </tr>\n",
       "    <tr>\n",
       "      <th>851</th>\n",
       "      <td>female_fearful</td>\n",
       "      <td>-59.889175</td>\n",
       "      <td>-59.889175</td>\n",
       "      <td>-59.889175</td>\n",
       "      <td>-59.889175</td>\n",
       "      <td>-59.889175</td>\n",
       "      <td>-59.889175</td>\n",
       "      <td>-59.889175</td>\n",
       "      <td>-59.889175</td>\n",
       "      <td>-59.889175</td>\n",
       "      <td>...</td>\n",
       "      <td>-51.419533</td>\n",
       "      <td>-51.556118</td>\n",
       "      <td>-52.688267</td>\n",
       "      <td>-51.571003</td>\n",
       "      <td>-51.334293</td>\n",
       "      <td>-52.267338</td>\n",
       "      <td>-53.137516</td>\n",
       "      <td>-53.039246</td>\n",
       "      <td>-51.566658</td>\n",
       "      <td>-51.257515</td>\n",
       "    </tr>\n",
       "    <tr>\n",
       "      <th>166</th>\n",
       "      <td>male_calm</td>\n",
       "      <td>-64.836502</td>\n",
       "      <td>-64.743034</td>\n",
       "      <td>-64.995651</td>\n",
       "      <td>-64.995651</td>\n",
       "      <td>-64.995651</td>\n",
       "      <td>-64.995651</td>\n",
       "      <td>-64.995651</td>\n",
       "      <td>-64.995651</td>\n",
       "      <td>-64.995651</td>\n",
       "      <td>...</td>\n",
       "      <td>-24.830919</td>\n",
       "      <td>-25.499186</td>\n",
       "      <td>-25.857328</td>\n",
       "      <td>-25.423267</td>\n",
       "      <td>-25.191694</td>\n",
       "      <td>-26.446756</td>\n",
       "      <td>-27.948254</td>\n",
       "      <td>-27.422558</td>\n",
       "      <td>-25.835690</td>\n",
       "      <td>-23.983660</td>\n",
       "    </tr>\n",
       "    <tr>\n",
       "      <th>269</th>\n",
       "      <td>female_happy</td>\n",
       "      <td>-53.769722</td>\n",
       "      <td>-53.081631</td>\n",
       "      <td>-53.512714</td>\n",
       "      <td>-53.126194</td>\n",
       "      <td>-54.014610</td>\n",
       "      <td>-54.318237</td>\n",
       "      <td>-55.030159</td>\n",
       "      <td>-56.599483</td>\n",
       "      <td>-56.698189</td>\n",
       "      <td>...</td>\n",
       "      <td>-57.683159</td>\n",
       "      <td>-55.310097</td>\n",
       "      <td>-55.652992</td>\n",
       "      <td>-53.802818</td>\n",
       "      <td>-52.698906</td>\n",
       "      <td>-51.941059</td>\n",
       "      <td>-51.811016</td>\n",
       "      <td>-53.279785</td>\n",
       "      <td>-55.381798</td>\n",
       "      <td>-58.272831</td>\n",
       "    </tr>\n",
       "  </tbody>\n",
       "</table>\n",
       "<p>5 rows × 217 columns</p>\n",
       "</div>"
      ],
      "text/plain": [
       "              label          0          1          2          3          4  \\\n",
       "938    male_fearful -41.033859 -43.473728 -44.571995 -45.404984 -45.459835   \n",
       "634      male_angry -52.434673 -51.535824 -53.196323 -52.245152 -51.765457   \n",
       "851  female_fearful -59.889175 -59.889175 -59.889175 -59.889175 -59.889175   \n",
       "166       male_calm -64.836502 -64.743034 -64.995651 -64.995651 -64.995651   \n",
       "269    female_happy -53.769722 -53.081631 -53.512714 -53.126194 -54.014610   \n",
       "\n",
       "             5          6          7          8  ...        206        207  \\\n",
       "938 -45.979374 -46.638767 -45.706509 -45.103676  ... -37.025810 -36.153347   \n",
       "634 -49.566086 -49.411064 -48.564835 -49.487381  ... -47.406448 -45.762714   \n",
       "851 -59.889175 -59.889175 -59.889175 -59.889175  ... -51.419533 -51.556118   \n",
       "166 -64.995651 -64.995651 -64.995651 -64.995651  ... -24.830919 -25.499186   \n",
       "269 -54.318237 -55.030159 -56.599483 -56.698189  ... -57.683159 -55.310097   \n",
       "\n",
       "           208        209        210        211        212        213  \\\n",
       "938 -35.001041 -35.734093 -34.929306 -33.435040 -32.902012 -32.227551   \n",
       "634 -46.912212 -50.075729 -48.734596 -49.856754 -50.899651 -50.184677   \n",
       "851 -52.688267 -51.571003 -51.334293 -52.267338 -53.137516 -53.039246   \n",
       "166 -25.857328 -25.423267 -25.191694 -26.446756 -27.948254 -27.422558   \n",
       "269 -55.652992 -53.802818 -52.698906 -51.941059 -51.811016 -53.279785   \n",
       "\n",
       "           214        215  \n",
       "938 -32.627934 -30.547537  \n",
       "634 -47.826580 -45.630180  \n",
       "851 -51.566658 -51.257515  \n",
       "166 -25.835690 -23.983660  \n",
       "269 -55.381798 -58.272831  \n",
       "\n",
       "[5 rows x 217 columns]"
      ]
     },
     "execution_count": 7,
     "metadata": {},
     "output_type": "execute_result"
    }
   ],
   "source": [
    "df.head()"
   ]
  },
  {
   "cell_type": "code",
   "execution_count": 8,
   "metadata": {},
   "outputs": [],
   "source": [
    "X_train, X_test, y_train, y_test, lb = split_df(df, transform=True)"
   ]
  },
  {
   "cell_type": "code",
   "execution_count": 9,
   "metadata": {},
   "outputs": [
    {
     "data": {
      "text/plain": [
       "array([[[-57.43790436],\n",
       "        [-57.43790436],\n",
       "        [-57.43790436],\n",
       "        ...,\n",
       "        [-36.72548676],\n",
       "        [-36.80500793],\n",
       "        [-38.34606171]],\n",
       "\n",
       "       [[-65.24334717],\n",
       "        [-65.24334717],\n",
       "        [-65.24334717],\n",
       "        ...,\n",
       "        [-58.61990738],\n",
       "        [-60.0683136 ],\n",
       "        [-57.35060501]],\n",
       "\n",
       "       [[-51.82197571],\n",
       "        [-54.55896759],\n",
       "        [-54.59420013],\n",
       "        ...,\n",
       "        [-24.89920235],\n",
       "        [-21.36425972],\n",
       "        [-15.93506718]],\n",
       "\n",
       "       ...,\n",
       "\n",
       "       [[-65.01216888],\n",
       "        [-62.33224869],\n",
       "        [-65.14536285],\n",
       "        ...,\n",
       "        [-67.94847107],\n",
       "        [-71.52256775],\n",
       "        [-76.50849915]],\n",
       "\n",
       "       [[-61.11098099],\n",
       "        [-60.010746  ],\n",
       "        [-61.09980011],\n",
       "        ...,\n",
       "        [-24.66411591],\n",
       "        [-22.25074387],\n",
       "        [-19.15155983]],\n",
       "\n",
       "       [[-64.89439392],\n",
       "        [-64.89439392],\n",
       "        [-64.89439392],\n",
       "        ...,\n",
       "        [-56.86887741],\n",
       "        [-60.20554733],\n",
       "        [-62.32952499]]])"
      ]
     },
     "execution_count": 9,
     "metadata": {},
     "output_type": "execute_result"
    }
   ],
   "source": [
    "X_train"
   ]
  },
  {
   "cell_type": "code",
   "execution_count": 10,
   "metadata": {},
   "outputs": [],
   "source": [
    "model = load_model(name='best_model')"
   ]
  },
  {
   "cell_type": "code",
   "execution_count": 11,
   "metadata": {},
   "outputs": [
    {
     "name": "stdout",
     "output_type": "stream",
     "text": [
      "Model: \"sequential\"\n",
      "_________________________________________________________________\n",
      "Layer (type)                 Output Shape              Param #   \n",
      "=================================================================\n",
      "conv1d_7 (Conv1D)            (None, 216, 128)          768       \n",
      "_________________________________________________________________\n",
      "activation_8 (Activation)    (None, 216, 128)          0         \n",
      "_________________________________________________________________\n",
      "conv1d_8 (Conv1D)            (None, 216, 128)          82048     \n",
      "_________________________________________________________________\n",
      "activation_9 (Activation)    (None, 216, 128)          0         \n",
      "_________________________________________________________________\n",
      "dropout_3 (Dropout)          (None, 216, 128)          0         \n",
      "_________________________________________________________________\n",
      "max_pooling1d_2 (MaxPooling1 (None, 27, 128)           0         \n",
      "_________________________________________________________________\n",
      "conv1d_9 (Conv1D)            (None, 27, 128)           82048     \n",
      "_________________________________________________________________\n",
      "activation_10 (Activation)   (None, 27, 128)           0         \n",
      "_________________________________________________________________\n",
      "conv1d_10 (Conv1D)           (None, 27, 128)           82048     \n",
      "_________________________________________________________________\n",
      "activation_11 (Activation)   (None, 27, 128)           0         \n",
      "_________________________________________________________________\n",
      "conv1d_11 (Conv1D)           (None, 27, 128)           82048     \n",
      "_________________________________________________________________\n",
      "activation_12 (Activation)   (None, 27, 128)           0         \n",
      "_________________________________________________________________\n",
      "dropout_4 (Dropout)          (None, 27, 128)           0         \n",
      "_________________________________________________________________\n",
      "conv1d_12 (Conv1D)           (None, 27, 128)           82048     \n",
      "_________________________________________________________________\n",
      "activation_13 (Activation)   (None, 27, 128)           0         \n",
      "_________________________________________________________________\n",
      "flatten_2 (Flatten)          (None, 3456)              0         \n",
      "_________________________________________________________________\n",
      "dense_2 (Dense)              (None, 10)                34570     \n",
      "_________________________________________________________________\n",
      "activation_14 (Activation)   (None, 10)                0         \n",
      "=================================================================\n",
      "Total params: 445,578\n",
      "Trainable params: 445,578\n",
      "Non-trainable params: 0\n",
      "_________________________________________________________________\n"
     ]
    }
   ],
   "source": [
    "model.summary()"
   ]
  },
  {
   "cell_type": "code",
   "execution_count": 35,
   "metadata": {},
   "outputs": [
    {
     "name": "stdout",
     "output_type": "stream",
     "text": [
      "accuracy: 91.67%\n"
     ]
    }
   ],
   "source": [
    "import keras\n",
    "\n",
    "opt = keras.optimizers.RMSprop(lr=0.00001, decay=1e-6)\n",
    "#####################\n",
    "X_train, X_test, y_train, y_test, _ = split_df(df, transform=True)\n",
    "# evaluate loaded model on test data\n",
    "model.compile(loss='categorical_crossentropy', optimizer=opt, metrics=['accuracy'])\n",
    "score = model.evaluate(X_test, y_test, verbose=0)\n",
    "print(\"%s: %.2f%%\" % (model.metrics_names[1], score[1]*100))"
   ]
  },
  {
   "cell_type": "code",
   "execution_count": null,
   "metadata": {},
   "outputs": [],
   "source": []
  },
  {
   "cell_type": "code",
   "execution_count": null,
   "metadata": {},
   "outputs": [],
   "source": []
  },
  {
   "cell_type": "code",
   "execution_count": null,
   "metadata": {},
   "outputs": [],
   "source": []
  },
  {
   "cell_type": "code",
   "execution_count": 17,
   "metadata": {},
   "outputs": [],
   "source": [
    "import librosa\n",
    "data, sampling_rate = librosa.load('VoiceExamples/Veronica_Stepanova.wav')"
   ]
  },
  {
   "cell_type": "code",
   "execution_count": 18,
   "metadata": {},
   "outputs": [],
   "source": [
    "X, sample_rate = librosa.load('VoiceExamples/bastard.wav', res_type='kaiser_fast',duration=2.5,sr=22050*2,offset=0.5)\n",
    "sample_rate = np.array(sample_rate)\n",
    "mfccs = np.mean(librosa.feature.mfcc(y=X, sr=sample_rate, n_mfcc=13),axis=0)\n",
    "featurelive = mfccs\n",
    "livedf2 = featurelive"
   ]
  },
  {
   "cell_type": "code",
   "execution_count": 19,
   "metadata": {},
   "outputs": [],
   "source": [
    "livedf2= pd.DataFrame(data=livedf2)"
   ]
  },
  {
   "cell_type": "code",
   "execution_count": 20,
   "metadata": {},
   "outputs": [],
   "source": [
    "livedf2 = livedf2.stack().to_frame().T"
   ]
  },
  {
   "cell_type": "code",
   "execution_count": 21,
   "metadata": {},
   "outputs": [
    {
     "data": {
      "text/html": [
       "<div>\n",
       "<style scoped>\n",
       "    .dataframe tbody tr th:only-of-type {\n",
       "        vertical-align: middle;\n",
       "    }\n",
       "\n",
       "    .dataframe tbody tr th {\n",
       "        vertical-align: top;\n",
       "    }\n",
       "\n",
       "    .dataframe thead tr th {\n",
       "        text-align: left;\n",
       "    }\n",
       "</style>\n",
       "<table border=\"1\" class=\"dataframe\">\n",
       "  <thead>\n",
       "    <tr>\n",
       "      <th></th>\n",
       "      <th>0</th>\n",
       "      <th>1</th>\n",
       "      <th>2</th>\n",
       "      <th>3</th>\n",
       "      <th>4</th>\n",
       "      <th>5</th>\n",
       "      <th>6</th>\n",
       "      <th>7</th>\n",
       "      <th>8</th>\n",
       "      <th>9</th>\n",
       "      <th>...</th>\n",
       "      <th>206</th>\n",
       "      <th>207</th>\n",
       "      <th>208</th>\n",
       "      <th>209</th>\n",
       "      <th>210</th>\n",
       "      <th>211</th>\n",
       "      <th>212</th>\n",
       "      <th>213</th>\n",
       "      <th>214</th>\n",
       "      <th>215</th>\n",
       "    </tr>\n",
       "    <tr>\n",
       "      <th></th>\n",
       "      <th>0</th>\n",
       "      <th>0</th>\n",
       "      <th>0</th>\n",
       "      <th>0</th>\n",
       "      <th>0</th>\n",
       "      <th>0</th>\n",
       "      <th>0</th>\n",
       "      <th>0</th>\n",
       "      <th>0</th>\n",
       "      <th>0</th>\n",
       "      <th>...</th>\n",
       "      <th>0</th>\n",
       "      <th>0</th>\n",
       "      <th>0</th>\n",
       "      <th>0</th>\n",
       "      <th>0</th>\n",
       "      <th>0</th>\n",
       "      <th>0</th>\n",
       "      <th>0</th>\n",
       "      <th>0</th>\n",
       "      <th>0</th>\n",
       "    </tr>\n",
       "  </thead>\n",
       "  <tbody>\n",
       "    <tr>\n",
       "      <th>0</th>\n",
       "      <td>-31.016605</td>\n",
       "      <td>-29.984844</td>\n",
       "      <td>-32.55986</td>\n",
       "      <td>-33.465763</td>\n",
       "      <td>-32.890621</td>\n",
       "      <td>-31.157042</td>\n",
       "      <td>-30.686033</td>\n",
       "      <td>-29.89053</td>\n",
       "      <td>-30.73344</td>\n",
       "      <td>-30.029217</td>\n",
       "      <td>...</td>\n",
       "      <td>-36.48138</td>\n",
       "      <td>-34.379936</td>\n",
       "      <td>-33.063076</td>\n",
       "      <td>-31.214642</td>\n",
       "      <td>-30.910337</td>\n",
       "      <td>-32.996284</td>\n",
       "      <td>-31.520571</td>\n",
       "      <td>-28.852793</td>\n",
       "      <td>-26.045702</td>\n",
       "      <td>-21.808651</td>\n",
       "    </tr>\n",
       "  </tbody>\n",
       "</table>\n",
       "<p>1 rows × 216 columns</p>\n",
       "</div>"
      ],
      "text/plain": [
       "         0          1         2          3          4          5          6    \\\n",
       "           0          0         0          0          0          0          0   \n",
       "0 -31.016605 -29.984844 -32.55986 -33.465763 -32.890621 -31.157042 -30.686033   \n",
       "\n",
       "        7         8          9    ...       206        207        208  \\\n",
       "          0         0          0  ...         0          0          0   \n",
       "0 -29.89053 -30.73344 -30.029217  ... -36.48138 -34.379936 -33.063076   \n",
       "\n",
       "         209        210        211        212        213        214        215  \n",
       "           0          0          0          0          0          0          0  \n",
       "0 -31.214642 -30.910337 -32.996284 -31.520571 -28.852793 -26.045702 -21.808651  \n",
       "\n",
       "[1 rows x 216 columns]"
      ]
     },
     "execution_count": 21,
     "metadata": {},
     "output_type": "execute_result"
    }
   ],
   "source": [
    "livedf2"
   ]
  },
  {
   "cell_type": "code",
   "execution_count": 22,
   "metadata": {},
   "outputs": [],
   "source": [
    "twodim= np.expand_dims(livedf2, axis=2)"
   ]
  },
  {
   "cell_type": "code",
   "execution_count": 23,
   "metadata": {},
   "outputs": [
    {
     "name": "stdout",
     "output_type": "stream",
     "text": [
      "1/1 [==============================] - 0s 1ms/step\n"
     ]
    }
   ],
   "source": [
    "livepreds = model.predict(twodim, \n",
    "                         batch_size=32, \n",
    "                         verbose=1)"
   ]
  },
  {
   "cell_type": "code",
   "execution_count": 24,
   "metadata": {},
   "outputs": [
    {
     "data": {
      "text/plain": [
       "array([[6.88976143e-05, 1.18949136e-03, 2.54648216e-02, 3.02731190e-02,\n",
       "        9.42987800e-01, 5.14863725e-14, 1.12755284e-10, 5.37848518e-06,\n",
       "        1.57825625e-07, 1.03073235e-05]], dtype=float32)"
      ]
     },
     "execution_count": 24,
     "metadata": {},
     "output_type": "execute_result"
    }
   ],
   "source": [
    "livepreds"
   ]
  },
  {
   "cell_type": "code",
   "execution_count": 25,
   "metadata": {},
   "outputs": [],
   "source": [
    "livepreds1=livepreds.argmax(axis=1)"
   ]
  },
  {
   "cell_type": "code",
   "execution_count": 26,
   "metadata": {},
   "outputs": [
    {
     "data": {
      "text/plain": [
       "array([4], dtype=int64)"
      ]
     },
     "execution_count": 26,
     "metadata": {},
     "output_type": "execute_result"
    }
   ],
   "source": [
    "livepreds1"
   ]
  },
  {
   "cell_type": "code",
   "execution_count": 27,
   "metadata": {},
   "outputs": [],
   "source": [
    "liveabc = livepreds1.astype(int).flatten()"
   ]
  },
  {
   "cell_type": "code",
   "execution_count": 28,
   "metadata": {},
   "outputs": [
    {
     "data": {
      "text/plain": [
       "array(['female_sad'], dtype=object)"
      ]
     },
     "execution_count": 28,
     "metadata": {},
     "output_type": "execute_result"
    }
   ],
   "source": [
    "livepredictions = (lb.inverse_transform((liveabc)))\n",
    "livepredictions"
   ]
  },
  {
   "cell_type": "code",
   "execution_count": 29,
   "metadata": {},
   "outputs": [],
   "source": [
    "from voice_recognition import Recognizer"
   ]
  },
  {
   "cell_type": "code",
   "execution_count": 30,
   "metadata": {},
   "outputs": [],
   "source": [
    "rec = Recognizer()"
   ]
  },
  {
   "cell_type": "code",
   "execution_count": 34,
   "metadata": {},
   "outputs": [
    {
     "name": "stdout",
     "output_type": "stream",
     "text": [
      "1/1 [==============================] - 0s 993us/step\n",
      "1/1 [==============================] - 0s 3ms/step\n",
      "1/1 [==============================] - 0s 996us/step\n",
      "1/1 [==============================] - 0s 1ms/step\n"
     ]
    },
    {
     "data": {
      "text/plain": [
       "{'VoiceExamples/Veronica_Stepanova.wav': 'female_sad',\n",
       " 'VoiceExamples/calm_Daria.wav': 'female_calm',\n",
       " 'VoiceExamples/angry_man.wav': 'male_angry',\n",
       " 'VoiceExamples/sad_Vladimir.wav': 'male_sad'}"
      ]
     },
     "execution_count": 34,
     "metadata": {},
     "output_type": "execute_result"
    }
   ],
   "source": [
    "rec.recognize(['VoiceExamples/Veronica_Stepanova.wav', 'VoiceExamples/calm_Daria.wav', 'VoiceExamples/angry_man.wav',\n",
    "               'VoiceExamples/sad_Vladimir.wav'], start_from=0.42)"
   ]
  },
  {
   "cell_type": "code",
   "execution_count": null,
   "metadata": {},
   "outputs": [],
   "source": []
  },
  {
   "cell_type": "code",
   "execution_count": null,
   "metadata": {},
   "outputs": [],
   "source": []
  },
  {
   "cell_type": "code",
   "execution_count": null,
   "metadata": {},
   "outputs": [],
   "source": []
  },
  {
   "cell_type": "code",
   "execution_count": null,
   "metadata": {},
   "outputs": [],
   "source": []
  },
  {
   "cell_type": "code",
   "execution_count": null,
   "metadata": {},
   "outputs": [],
   "source": []
  },
  {
   "cell_type": "code",
   "execution_count": null,
   "metadata": {},
   "outputs": [],
   "source": []
  },
  {
   "cell_type": "code",
   "execution_count": null,
   "metadata": {},
   "outputs": [],
   "source": []
  },
  {
   "cell_type": "code",
   "execution_count": null,
   "metadata": {},
   "outputs": [],
   "source": [
    "from voice_recognition import Recognizer\n",
    "rec = Recognizer()\n",
    "rec.recognize(['VoiceExamples/angry_man.wav',\\\n",
    "               'VoiceExamples/sad_Vladimir.wav',\\\n",
    "               'VoiceExamples/calm_Daria.wav'], start_from=0.5)"
   ]
  },
  {
   "cell_type": "code",
   "execution_count": null,
   "metadata": {},
   "outputs": [],
   "source": [
    "rec."
   ]
  },
  {
   "cell_type": "code",
   "execution_count": null,
   "metadata": {},
   "outputs": [],
   "source": []
  }
 ],
 "metadata": {
  "kernelspec": {
   "display_name": "Python 3",
   "language": "python",
   "name": "python3"
  },
  "language_info": {
   "codemirror_mode": {
    "name": "ipython",
    "version": 3
   },
   "file_extension": ".py",
   "mimetype": "text/x-python",
   "name": "python",
   "nbconvert_exporter": "python",
   "pygments_lexer": "ipython3",
   "version": "3.8.5"
  }
 },
 "nbformat": 4,
 "nbformat_minor": 4
}
